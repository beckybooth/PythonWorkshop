{
 "cells": [
  {
   "cell_type": "markdown",
   "metadata": {},
   "source": [
    "<font color = '#551A8B'> \n",
    "#  Introduction to Python"
   ]
  },
  {
   "cell_type": "markdown",
   "metadata": {},
   "source": [
    "<font color=\"#EE7621\">\n",
    "## Python is\n",
    "<font color = \"black\"><br>\n",
    "\n",
    "* **An interpreted language:** The Python Interpreter converts the code into a language that your computer can understand dynamically during run time. There is no compiler step and no executable is produced. \n",
    "\n",
    "* **Strongly typed:** The interpreter assigns each variable a specific data type. Operations between two variables of different type are restricted (ex: trying to add \"cat\" + 3 will result in an error). There are few situations where implicit type conversion occurs in Python, mostly between numeric data types. \n",
    "\n",
    "* **Dynamically typed:** The Interpreter assigns the data type to each variable as the code is run. There is no need for the programmer to declare a variable's data type.  \n",
    "\n",
    "<img src = \"c++_vs_py.jpg\">\n",
    "\n",
    "### Why use Python?\n",
    "\n",
    "**Advantages**: \n",
    "* It's free and easy to install.\n",
    "* Python is easy to read and write. Often fewer lines of code are required to execute a task in Python than would be required in an other language. Ease of coding saves the programmer time\n",
    "* Python excels in experimentation of new algorithms: code can be tested as it is written\n",
    "* Extensive scientific libraries \n",
    "* Active online communities\n",
    "* New versions are not backwards compatable.\n",
    "\n",
    "**Disadvantages**\n",
    "* Python tends to run slower than compiled languages.\n",
    "* The Interpreter does not check for errors until runtime.\n",
    "* New versions are not backwards compatable.\n",
    "\n",
    "### Python Environments\n",
    "\n",
    "While there is one core interpreter, there are many environments you can use:  \n",
    "- default python shell\n",
    "- enhanced shells: Ipython,qtconsole, Jupyter, CASA\n",
    "- Integrated Developement Environments (IDEs) like Spyder, PyCharm"
   ]
  },
  {
   "cell_type": "code",
   "execution_count": 342,
   "metadata": {},
   "outputs": [],
   "source": [
    "# In Python, comments are initiated by a pound sign\n",
    "\n",
    "# The interpreter will skip over commented lines"
   ]
  },
  {
   "cell_type": "markdown",
   "metadata": {},
   "source": [
    "In an interactive environment, like this Jupyter Notebook, you can access variables with just their names. In functions and scripts, you need print statements."
   ]
  },
  {
   "cell_type": "code",
   "execution_count": 350,
   "metadata": {},
   "outputs": [
    {
     "data": {
      "text/plain": [
       "8"
      ]
     },
     "execution_count": 350,
     "metadata": {},
     "output_type": "execute_result"
    }
   ],
   "source": [
    "x = 3 + 5\n",
    "x"
   ]
  },
  {
   "cell_type": "markdown",
   "metadata": {},
   "source": [
    "<font color = '#551A8B'> \n",
    "    \n",
    "# Data Types"
   ]
  },
  {
   "cell_type": "markdown",
   "metadata": {},
   "source": [
    "<font color=\"#EE7621\">\n",
    "## Numeric Data Types\n",
    "<font color = \"black\"><br>\n",
    "\n",
    "Duck typing: *\"If it walks like a duck and it quacks like a duck, then it must be a duck\"*\n",
    "\n",
    "From https://en.wikipedia.org/wiki/Duck_typing\n",
    "\n",
    "*\"Duck typing in computer programming is application of the duck test—\"If it walks like a duck and it quacks like a duck, then it must be a duck\"—to determine if an object can be used for a particular purpose. With normal typing, suitability is determined by an object's type. In duck typing, an object's suitability is determined by the presence of certain methods and properties, rather than the type of the object itself.\"*\n",
    "\n",
    "Python's built-in numeric data types are\n",
    "* **int**: integer number\n",
    "* **float**: floating point decimal number\n",
    "* **complex**: complex number\n",
    "* **bool**: boolean (True or False)"
   ]
  },
  {
   "cell_type": "code",
   "execution_count": 343,
   "metadata": {},
   "outputs": [
    {
     "name": "stdout",
     "output_type": "stream",
     "text": [
      "a = <class 'int'>     b = <class 'float'>     c = <class 'complex'>     d = <class 'bool'> \n",
      "\n"
     ]
    }
   ],
   "source": [
    "#  ----------------------------- define some variables -----------------------------\n",
    "\n",
    "# int\n",
    "a = 1\n",
    "\n",
    "# float\n",
    "b = 3.0\n",
    "\n",
    "# complex\n",
    "c = 1.0 + 2.0j  # complex numbers are defines with a j attached to the imaginary part\n",
    "\n",
    "# bool\n",
    "d = True\n",
    "\n",
    "# print data type of the variables\n",
    "print(\"a =\", type(a), \"    b =\", type(b), \"    c =\", type(c), \"    d =\", type(d), \"\\n\") # \"\\n\" means new line"
   ]
  },
  {
   "cell_type": "code",
   "execution_count": 405,
   "metadata": {},
   "outputs": [
    {
     "name": "stdout",
     "output_type": "stream",
     "text": [
      "a + b = 4.0 \n",
      "\n",
      "a + b = 4.0 \n",
      "\n",
      "a * b = 3.0 \n",
      "\n",
      "a/b = 0.3333333333333333 \n",
      "\n",
      "a**b = 1.0 \n",
      "\n"
     ]
    }
   ],
   "source": [
    "# In mathematical operations between an integer and a float, \n",
    "# Python upgrades the integer to a float\n",
    "\n",
    "print(\"a + b =\", a + b, \"\\n\") # addition\n",
    "print(\"a + b =\", a + b, \"\\n\") # subtraction\n",
    "print(\"a * b =\", a * b, \"\\n\") # multiplication\n",
    "print(\"a/b =\", a/b, \"\\n\")     # division\n",
    "print(\"a**b =\", a**b, \"\\n\")   # exponentiation"
   ]
  },
  {
   "cell_type": "code",
   "execution_count": 338,
   "metadata": {},
   "outputs": [
    {
     "name": "stdout",
     "output_type": "stream",
     "text": [
      "c + b = (4+2j) \n",
      "\n",
      "c + b = (4+2j) \n",
      "\n",
      "c * b = (3+6j) \n",
      "\n",
      "c/b = (0.3333333333333333+0.6666666666666666j) \n",
      "\n",
      "c**b = (-11-2j) \n",
      "\n"
     ]
    }
   ],
   "source": [
    "# In mathematical operations between other numerical types and complex numbers, \n",
    "# Python upgrades the float to a complex\n",
    "\n",
    "print(\"c + b =\", c + b, \"\\n\") # addition\n",
    "print(\"c + b =\", c + b, \"\\n\") # subtraction\n",
    "print(\"c * b =\", c * b, \"\\n\") # multiplication\n",
    "print(\"c/b =\", c/b, \"\\n\")     # division\n",
    "print(\"c**b =\", c**b, \"\\n\")   # exponentiation"
   ]
  },
  {
   "cell_type": "code",
   "execution_count": 339,
   "metadata": {},
   "outputs": [
    {
     "name": "stdout",
     "output_type": "stream",
     "text": [
      "d + b = 4.0 \n",
      "\n",
      "d + b = 4.0 \n",
      "\n",
      "d * b = 3.0 \n",
      "\n",
      "d/b = 0.3333333333333333 \n",
      "\n",
      "d**b = 1.0 \n",
      "\n"
     ]
    }
   ],
   "source": [
    "# In mathematical operations between a boolean type and a number, \n",
    "# Python treats the bool as an int: 1 (True) or 0 (False)\n",
    "\n",
    "print(\"d + b =\", d + b, \"\\n\") # addition\n",
    "print(\"d + b =\", d + b, \"\\n\") # subtraction\n",
    "print(\"d * b =\", d * b, \"\\n\") # multiplication\n",
    "print(\"d/b =\", d/b, \"\\n\")     # division\n",
    "print(\"d**b =\", d**b, \"\\n\")   # exponentiation"
   ]
  },
  {
   "cell_type": "code",
   "execution_count": 340,
   "metadata": {},
   "outputs": [
    {
     "name": "stdout",
     "output_type": "stream",
     "text": [
      "a/a = 1.0      a/b =  0.3333333333333333      b/a =  3.0 \n",
      "\n",
      "a//a = 1 \n",
      "\n"
     ]
    }
   ],
   "source": [
    "# All division produces floats (or complex) results\n",
    "print(\"a/a =\", a/a , \"     a/b = \", a/b, \"     b/a = \", b/a, \"\\n\")\n",
    "\n",
    "# To specify integer division, use the // operator, the result gives you the floor\n",
    "print(\"a//a =\", a//a,  \"\\n\")"
   ]
  },
  {
   "cell_type": "markdown",
   "metadata": {},
   "source": [
    "Optimization note: multiplication is always faster than exponentiation"
   ]
  },
  {
   "cell_type": "code",
   "execution_count": 435,
   "metadata": {},
   "outputs": [
    {
     "name": "stdout",
     "output_type": "stream",
     "text": [
      "91 ns ± 3.38 ns per loop (mean ± std. dev. of 7 runs, 10000000 loops each)\n"
     ]
    }
   ],
   "source": [
    "x = 2\n",
    "%timeit x*x"
   ]
  },
  {
   "cell_type": "code",
   "execution_count": 436,
   "metadata": {},
   "outputs": [
    {
     "name": "stdout",
     "output_type": "stream",
     "text": [
      "420 ns ± 30.8 ns per loop (mean ± std. dev. of 7 runs, 1000000 loops each)\n"
     ]
    }
   ],
   "source": [
    "%timeit x**2"
   ]
  },
  {
   "cell_type": "markdown",
   "metadata": {},
   "source": [
    "<font color = 'green'>\n",
    "#### Exercise 1\n",
    "<br>    \n",
    "<font color = 'black'>\n",
    "\n",
    "\n",
    "1) Create and initialize four numeric variables: one integer, one float, one complex, and one bool\n",
    "\n",
    "2) Experiment with the different simple mathematical operations (addition, subtraction, multiplication, division, exponentiation) \n",
    "\n",
    "3) Determine the data type of the result"
   ]
  },
  {
   "cell_type": "code",
   "execution_count": 347,
   "metadata": {},
   "outputs": [],
   "source": []
  },
  {
   "cell_type": "markdown",
   "metadata": {},
   "source": [
    "### Object-oriented programming\n",
    "\n",
    "Python is **object-oriented**, in that everything is an object with methods attached:"
   ]
  },
  {
   "cell_type": "code",
   "execution_count": 61,
   "metadata": {},
   "outputs": [
    {
     "name": "stdout",
     "output_type": "stream",
     "text": [
      "Example 1: (4+1j)\n",
      "Example 2: True\n",
      "Example 3: String\n"
     ]
    }
   ],
   "source": [
    "x = 4-1j\n",
    "print(\"Example 1:\", x.conjugate()) # conjugate() is a method associated with the complex data type\n",
    "\n",
    "x = 3.0\n",
    "print(\"Example 2:\", x.is_integer()) # is_integer() is a method associated with the float data type\n",
    "\n",
    "x = 'string'\n",
    "print(\"Example 3:\", x.capitalize()) # capitalize is a mthod associated with the string data type\n"
   ]
  },
  {
   "cell_type": "markdown",
   "metadata": {},
   "source": [
    "You can use the Python *help()* function to get a list of methods associated with a data type (look at the methods without '__' at the beginning)"
   ]
  },
  {
   "cell_type": "markdown",
   "metadata": {},
   "source": [
    "<font color = 'green'>\n",
    "\n",
    "#### Exercise 2\n",
    "\n",
    "<font color = 'black'>\n",
    "Uncomment the help statements below to learn more about each data type"
   ]
  },
  {
   "cell_type": "code",
   "execution_count": 69,
   "metadata": {},
   "outputs": [],
   "source": [
    "# help(int) \n",
    "# help(float) \n",
    "# help(complex)\n",
    "# help(bool)"
   ]
  },
  {
   "cell_type": "markdown",
   "metadata": {},
   "source": [
    "<font color=\"#EE7621\">\n",
    "## Iterable data types\n",
    "<font color = \"black\"><br>\n",
    "    \n",
    "An iterable object is a collection of multiple objects, called elements, stored in a sequence, which can be accessed using an index or key. \n",
    "\n",
    "#### Lists and tuples\n",
    "Basic Python does not have (proper) arrays. The most common array-like things amoung the built-in data types are lists and tuples, which are 1-D ordered groups of python objects. Elements are not limited to a particular type; they can have any type of variable, including mixtures of types as well as other lists (creating nested lists). \n",
    "\n",
    "<img src = 'listsandtuples.jpg'>\n",
    "\n"
   ]
  },
  {
   "cell_type": "code",
   "execution_count": 396,
   "metadata": {},
   "outputs": [],
   "source": [
    "# tuple\n",
    "ex_tuple = (1, \"cat\", 3.14159, 1+1j, (1,2,3)) # tuples use round braces\n",
    "\n",
    "# list \n",
    "ex_list = [1, \"cat\", 3.14159, 1+1j, [1,2,3]] # lists use square braces\n"
   ]
  },
  {
   "cell_type": "markdown",
   "metadata": {},
   "source": [
    "#### Strings\n",
    "Strings are sequences of characters forming a word or a sentance. Characters may be letters or numbers."
   ]
  },
  {
   "cell_type": "code",
   "execution_count": 179,
   "metadata": {},
   "outputs": [
    {
     "name": "stdout",
     "output_type": "stream",
     "text": [
      "ex_string1: duck\n",
      "ex_string2: 12\n",
      "ex_string3 = ex_string1 + ex_string2: duck12\n"
     ]
    }
   ],
   "source": [
    "ex_string1 = 'duck' # strings can contain letters\n",
    "\n",
    "ex_string2 = '12' # or numbers\n",
    "\n",
    "ex_string3 = ex_string1 + ex_string2 # concatenation is a simple matter of adding the two strings\n",
    "\n",
    "print(\"ex_string1:\", c)\n",
    "print(\"ex_string2:\", d)\n",
    "print(\"ex_string3 = ex_string1 + ex_string2:\", e)"
   ]
  },
  {
   "cell_type": "markdown",
   "metadata": {},
   "source": [
    "##### Indexing  Lists, Tuples, and Strings\n",
    "Access elements using integer indices. Elements are indexed starting from 0. The last element of a list or tuple can also be accessed using index -1.\n",
    "\n",
    "<img src = 'indexing.jpg'>\n"
   ]
  },
  {
   "cell_type": "code",
   "execution_count": 186,
   "metadata": {},
   "outputs": [
    {
     "name": "stdout",
     "output_type": "stream",
     "text": [
      "ex_tuple: 1 cat 3.14159 (1+1j) (1, 2, 3)\n",
      "ex_list: 1 cat 3.14159 (1+1j) [1, 2, 3]\n",
      "ex_string1: d u c k\n",
      "ex_tuple, last element: (1, 2, 3)\n"
     ]
    }
   ],
   "source": [
    "print(\"ex_tuple:\", ex_tuple[0], ex_tuple[1], ex_tuple[2], ex_tuple[3], ex_tuple[4]) \n",
    "\n",
    "print(\"ex_list:\", ex_list[0], ex_list[1], ex_list[2], ex_list[3], ex_list[4])\n",
    "\n",
    "print('ex_string1:', ex_string1[0], ex_string1[1], ex_string1[2], ex_string1[3])\n",
    "\n",
    "print('ex_tuple, last element:',  ex_tuple[-1])\n"
   ]
  },
  {
   "cell_type": "markdown",
   "metadata": {},
   "source": [
    "To get the number of elements in a list, tuple, or string, use the len() function"
   ]
  },
  {
   "cell_type": "code",
   "execution_count": 395,
   "metadata": {},
   "outputs": [
    {
     "name": "stdout",
     "output_type": "stream",
     "text": [
      "length of the example tuple: 5\n",
      "length of the example list: 5\n",
      "length of the example string: 4\n"
     ]
    }
   ],
   "source": [
    "print('length of the example tuple:', len(ex_tuple))\n",
    "print('length of the example list:',len(ex_list))\n",
    "print('length of the example string:',len(ex_string1))"
   ]
  },
  {
   "cell_type": "markdown",
   "metadata": {},
   "source": [
    "#### Dictionaries\n",
    "\n",
    "Dictionaries are unordered and consist of key-value pairs, so you access values using the corresponding keys. They are defined using curly braces, { }. They are also not strict when it comes to types. They are sometimes used for storing long lists of named parameters.\n",
    "\n",
    "<img src = \"dicts.jpg\">"
   ]
  },
  {
   "cell_type": "code",
   "execution_count": 177,
   "metadata": {},
   "outputs": [
    {
     "name": "stdout",
     "output_type": "stream",
     "text": [
      "f: red 3 PI\n"
     ]
    }
   ],
   "source": [
    "ex_dict = {'apple':'red', 7:3, 3.14159:'PI'} # curly braces\n",
    "\n",
    "# Elements are accessed using key values. Keys may be strings or numerical values.\n",
    "print('ex_dict:', ex_dict['apple'], ex_dict[7], ex_dict[3.14159])"
   ]
  },
  {
   "cell_type": "markdown",
   "metadata": {},
   "source": [
    "<font color = 'green'>\n",
    "#### Exercise 3\n",
    "    \n",
    "<font color = 'black'>\n",
    "Learn more about each iterative data type by uncommenting the help statements below"
   ]
  },
  {
   "cell_type": "code",
   "execution_count": 102,
   "metadata": {},
   "outputs": [],
   "source": [
    "# help(tuple)\n",
    "# help(list)\n",
    "# help(str)\n",
    "# help(dict)"
   ]
  },
  {
   "cell_type": "markdown",
   "metadata": {},
   "source": [
    "<font color = 'green'> \n",
    "\n",
    "#### Exercise 4\n",
    "    \n",
    "<font color = 'black'>\n",
    "Use the list defined in the code block below to experiment with the following methods associated with the list data type. \n",
    "\n",
    "- append( x )\n",
    "- clear( )\n",
    "- copy( )\n",
    "- extend( [x,y,z,...] )\n",
    "- insert(x)\n",
    "- pop( )\n",
    "- index( x )\n",
    "- remove( x )\n",
    "- reverse( )\n",
    "- count( x )\n",
    "- sort( )\n"
   ]
  },
  {
   "cell_type": "code",
   "execution_count": 397,
   "metadata": {},
   "outputs": [
    {
     "data": {
      "text/plain": [
       "[3, 5, 6, 2, 8, 1, 12, 2]"
      ]
     },
     "execution_count": 397,
     "metadata": {},
     "output_type": "execute_result"
    }
   ],
   "source": [
    "ex4_list = [3,5,6,2,8,1,12]\n",
    "\n",
    "# example of how you could use the list methods\n",
    "ex4_list.append(2)\n",
    "\n",
    "ex4_list"
   ]
  },
  {
   "cell_type": "markdown",
   "metadata": {},
   "source": [
    "#### What is the difference between a list and a tuple?\n",
    "\n",
    "An easily identified difference between the two is that lists are contained in brackets (square) and tuples are contained in parentheses (round). \n",
    "\n",
    "- List = [a, b, c, ...]\n",
    "- Tuple = (a, b, c, ...)\n",
    "\n",
    "There are more significant, and useful differences between the two types than the shape of their brackets, however. Below is the directory of methods associated with a list object and a tuple object. "
   ]
  },
  {
   "cell_type": "code",
   "execution_count": 113,
   "metadata": {},
   "outputs": [
    {
     "name": "stdout",
     "output_type": "stream",
     "text": [
      "List methods:  ['append', 'clear', 'copy', 'count', 'extend', 'index', 'insert', 'pop', 'remove', 'reverse', 'sort']\n",
      "Tuple methods:  ['count', 'index']\n"
     ]
    }
   ],
   "source": [
    "# Directory of methods associated with lists\n",
    "list_dir = dir(list)\n",
    "print(\"List methods: \", [x for x in list_dir if x[0] is not \"_\"])\n",
    "\n",
    "# Directory of methods associated with tuples\n",
    "tup_dir = dir(tuple)\n",
    "print(\"Tuple methods: \", [x for x in tup_dir if x[0] is not \"_\"])"
   ]
  },
  {
   "cell_type": "markdown",
   "metadata": {},
   "source": [
    "From their method directories, we can see that lists have nine extra methods that tuples do not have:\n",
    "- 'append'\n",
    "- 'clear'\n",
    "- 'copy'\n",
    "- 'extend'\n",
    "- 'insert'\n",
    "- 'pop',\n",
    "- 'remove'\n",
    "- 'reverse'\n",
    "- 'sort'\n",
    "\n",
    "These extra methods take advantage of a special property of lists, thier **mutability**. All other data types in Python are **immutable**. This means that once an object is initialized and stored in memory, it can not be changed. Consider the initialization of an integer below:"
   ]
  },
  {
   "cell_type": "code",
   "execution_count": 114,
   "metadata": {},
   "outputs": [
    {
     "name": "stdout",
     "output_type": "stream",
     "text": [
      "Bob =  1 and Bob's address is 4535003936\n",
      "Bob =  2 and Bob's address is 4535003968\n"
     ]
    }
   ],
   "source": [
    "Bob = 1\n",
    "print(\"Bob = \", Bob, \"and Bob's address is\", id(Bob))\n",
    "\n",
    "Bob = 2\n",
    "print(\"Bob = \", Bob, \"and Bob's address is\", id(Bob))\n"
   ]
  },
  {
   "cell_type": "markdown",
   "metadata": {},
   "source": [
    "In this example, the integer $1$ is stored somewhere in memory, and the name $Bob$ is assigned its address. After, the name $Bob$ is reassigned to a new address, the location of the integer $2$. The integer $1$ remains unchanged at $Bob$'s previous address. Integers, like most Python objects, are **immutable**, their name can be reassigned to a new object, but the data itself cannot be changed. \n",
    "\n",
    "As **mutable** objects, lists are the only objects in Python that can be changed after they are created and assigned. "
   ]
  },
  {
   "cell_type": "code",
   "execution_count": 115,
   "metadata": {},
   "outputs": [
    {
     "name": "stdout",
     "output_type": "stream",
     "text": [
      "[1, 4, 3]\n"
     ]
    }
   ],
   "source": [
    "a_list = [1,2,3]\n",
    "\n",
    "a_list[1] = 4\n",
    "\n",
    "print(a_list)"
   ]
  },
  {
   "cell_type": "markdown",
   "metadata": {},
   "source": [
    "In the example above, a_list was created and the elements $[1,2,3]$ were stored in it. After, a_list[1] was changed from $2$ to $4$, changing the list sequence to $[1,4,3]$.\n",
    "\n",
    "When we try to do the same process with a tuple instead of a list, we get an error message because tuples are **immutable**:"
   ]
  },
  {
   "cell_type": "code",
   "execution_count": 116,
   "metadata": {},
   "outputs": [
    {
     "ename": "TypeError",
     "evalue": "'tuple' object does not support item assignment",
     "output_type": "error",
     "traceback": [
      "\u001b[0;31m---------------------------------------------------------------------------\u001b[0m",
      "\u001b[0;31mTypeError\u001b[0m                                 Traceback (most recent call last)",
      "\u001b[0;32m<ipython-input-116-b6fbf6c2567e>\u001b[0m in \u001b[0;36m<module>\u001b[0;34m()\u001b[0m\n\u001b[1;32m      1\u001b[0m \u001b[0ma_tuple\u001b[0m \u001b[0;34m=\u001b[0m \u001b[0;34m(\u001b[0m\u001b[0;36m1\u001b[0m\u001b[0;34m,\u001b[0m\u001b[0;36m2\u001b[0m\u001b[0;34m,\u001b[0m\u001b[0;36m3\u001b[0m\u001b[0;34m)\u001b[0m\u001b[0;34m\u001b[0m\u001b[0m\n\u001b[0;32m----> 2\u001b[0;31m \u001b[0ma_tuple\u001b[0m\u001b[0;34m[\u001b[0m\u001b[0;36m1\u001b[0m\u001b[0;34m]\u001b[0m \u001b[0;34m=\u001b[0m \u001b[0;36m4\u001b[0m\u001b[0;34m\u001b[0m\u001b[0m\n\u001b[0m",
      "\u001b[0;31mTypeError\u001b[0m: 'tuple' object does not support item assignment"
     ]
    }
   ],
   "source": [
    "a_tuple = (1,2,3)\n",
    "a_tuple[1] = 4"
   ]
  },
  {
   "cell_type": "markdown",
   "metadata": {},
   "source": [
    "Tuples allow for the sequence to have some permanency. If the elements of a sequence have some meaning in relation to each other, or anytime the programmer wants to prevent the sequence from being inadvertently changed, it may be better to choose a tuple over a list. \n",
    "\n",
    "The example below demonstrates a list error which could have been avoided by using a tuple:"
   ]
  },
  {
   "cell_type": "code",
   "execution_count": 126,
   "metadata": {},
   "outputs": [
    {
     "name": "stdout",
     "output_type": "stream",
     "text": [
      "[1, 4, 3]\n"
     ]
    }
   ],
   "source": [
    "first_list = [1,2,3]\n",
    "second_list = first_list \n",
    "second_list[1] = 4\n",
    "\n",
    "print(first_list)\n",
    "\n",
    "# You could use a tuple, or you could also use second_list = first_list.copy() to prevent this"
   ]
  },
  {
   "cell_type": "markdown",
   "metadata": {},
   "source": [
    "In this example, the first_list was created with elements [1,2,3]. Then second_list was created and also assigned the list [1,2,3]. However instead of being assigned a copy, now both names first_list and second_list point at the same list! This means that if an element of second_list is changed, first_list is changed too, because they are both names for the same list. \n",
    "\n",
    "While lists have the advantage of being mutable, due to their immutability, tuples tend to be more efficient."
   ]
  },
  {
   "cell_type": "code",
   "execution_count": 123,
   "metadata": {},
   "outputs": [
    {
     "name": "stdout",
     "output_type": "stream",
     "text": [
      "27.4 ns ± 0.809 ns per loop (mean ± std. dev. of 7 runs, 10000000 loops each)\n"
     ]
    }
   ],
   "source": [
    "# let's time how long it takes to assign a tuple\n",
    "%timeit x = (1,2,3,4,5,6,7,8)"
   ]
  },
  {
   "cell_type": "code",
   "execution_count": 124,
   "metadata": {},
   "outputs": [
    {
     "name": "stdout",
     "output_type": "stream",
     "text": [
      "169 ns ± 1.72 ns per loop (mean ± std. dev. of 7 runs, 10000000 loops each)\n"
     ]
    }
   ],
   "source": [
    "# now let's do the same with a list\n",
    "%timeit x = [1,2,3,4,5,6,7,8]"
   ]
  },
  {
   "cell_type": "markdown",
   "metadata": {},
   "source": [
    "<font color = '#551A8B'> \n",
    "    \n",
    "# Logic, control statements, and loops\n",
    "\n",
    "<font color = 'black'>\n",
    "\n",
    "\n",
    "\n",
    "<font color=\"#EE7621\">\n",
    "## Logic statements\n",
    "<font color = \"black\"><br>\n",
    "\n",
    "\n",
    "Logic statements are tests that return *True* or *False*. \n",
    "\n",
    "**Logic Operators**\n",
    "* Equality: ==, is\n",
    "* Not equal: !=, is not\n",
    "* Greater than: >, Greater than or equal to: >=\n",
    "* Less than: <, Less than or equal to: <=\n",
    "* logical AND: and\n",
    "* logical OR: or\n",
    "* logical NOT: not\n",
    "\n",
    "Below are examples of different kinds of logic statements you can use in Python. \n"
   ]
  },
  {
   "cell_type": "code",
   "execution_count": 365,
   "metadata": {},
   "outputs": [
    {
     "name": "stdout",
     "output_type": "stream",
     "text": [
      "Example 1: x = 3\n",
      "x == 3: True\n",
      "x is 3: True\n",
      "x != 3: False\n",
      "x is not 3: False\n",
      "x > 2: True\n",
      "x < 3: False\n",
      "x <= 3: True \n",
      "\n"
     ]
    }
   ],
   "source": [
    "x = 3\n",
    "\n",
    "print(\"Example 1: x = 3\")\n",
    "print(\"x == 3:\", x == 3) # careful to use \"==\" and not \"=\" or you will reassign x\n",
    "print(\"x is 3:\", x is 3)\n",
    "print(\"x != 3:\", x != 3)\n",
    "print(\"x is not 3:\", x is not 3)\n",
    "print(\"x > 2:\", x > 2)\n",
    "print(\"x < 3:\", x < 3)\n",
    "print(\"x <= 3:\", x <= 3, '\\n')\n",
    "\n"
   ]
  },
  {
   "cell_type": "code",
   "execution_count": 366,
   "metadata": {},
   "outputs": [
    {
     "name": "stdout",
     "output_type": "stream",
     "text": [
      "Example 2: x = [1,2,3]\n",
      "3 in x: True\n",
      "4 in x False\n",
      "3 not in x: False\n",
      "4 not in x True \n",
      "\n"
     ]
    }
   ],
   "source": [
    "x = [1,2,3]\n",
    "\n",
    "print(\"Example 2: x = [1,2,3]\")\n",
    "print(\"3 in x:\", 3 in x)\n",
    "print(\"4 in x\", 4 in x)\n",
    "print(\"3 not in x:\", 3 not in x)\n",
    "print(\"4 not in x\", 4 not in x, '\\n')"
   ]
  },
  {
   "cell_type": "code",
   "execution_count": 367,
   "metadata": {},
   "outputs": [
    {
     "name": "stdout",
     "output_type": "stream",
     "text": [
      "Example 3: x = 2 and y = 7\n",
      "x > 1 and y > 1: True\n",
      "x < 1 and y > 1 False\n",
      "x < 1 and y < 1 False\n",
      "x > 1 or y > 1: True\n",
      "x < 1 or y > 1 True\n",
      "x < 1 or y < 1 False\n",
      "not(x < 1 or y < 1) True\n"
     ]
    }
   ],
   "source": [
    "x = 2\n",
    "y = 7\n",
    "\n",
    "print(\"Example 3: x = 2 and y = 7\")\n",
    "print(\"x > 1 and y > 1:\", x > 1 and y > 1) # True and True = True\n",
    "print(\"x < 1 and y > 1\",x < 1 and y > 1) # False and True = False\n",
    "print(\"x < 1 and y < 1\", x < 1 and y < 1) # False and False = False\n",
    "print(\"x > 1 or y > 1:\", x > 1 or y > 1) # True or True = True\n",
    "print(\"x < 1 or y > 1\",x < 1 or y > 1) # False or True = True\n",
    "print(\"x < 1 or y < 1\", x < 1 or y < 1) # False or False = False\n",
    "print(\"not(x < 1 or y < 1)\", not(x < 1 or y < 1)) # not(False or False) = True"
   ]
  },
  {
   "cell_type": "markdown",
   "metadata": {},
   "source": [
    "<font color = 'green'> \n",
    "#### Exercise 5\n",
    "    \n",
    "<font color = 'black'>\n",
    "Write a logic statement that returns True if the numbers 2 AND 8 are in the list OR the last element is greater than 5.\n",
    "    \n",
    "Test your code by uncommenting each of the lists below, one at a time\n"
   ]
  },
  {
   "cell_type": "code",
   "execution_count": 410,
   "metadata": {},
   "outputs": [],
   "source": [
    "#ex5_list = [3,2,10,8,4,9,3] # True\n",
    "#ex5_list = [7,9,12,14,4,9,21] # True\n",
    "#ex5_list = [5,9,7,14,4,9,2] # False\n",
    "\n"
   ]
  },
  {
   "cell_type": "markdown",
   "metadata": {},
   "source": [
    "<font color=\"#EE7621\">\n",
    "## Control statements\n",
    "<font color = \"black\"><br>\n",
    "    \n",
    "<img src = 'ifstatements.png'>\n",
    "\n",
    "\n",
    "\n",
    "#### White space \n",
    "\n",
    "Python uses whitespace to control program flow similar to how C uses braces: to define blocks of code. This is used for function definitions, for/while loops, if-then statements, etc.'Whitespace' is a vague term. It can be spaces or tabs, and the number of spaces is arbitrary. **BUT:** it must be the same throughout the entire program. The Python interpreter will crash if it gets conflicting whitespace. This can happen if you take someone else's code (using spaces), and add a few lines using tabs.\n",
    "\n",
    "The recommended best practice is 4 spaces. This is the default in Jupyter, and can be set in other text editors. Some editors (e.g. nano) also offer a tabs-to-spaces option.\n",
    "\n",
    "<img src = \"ifexample.jpg\">"
   ]
  },
  {
   "cell_type": "code",
   "execution_count": 216,
   "metadata": {},
   "outputs": [
    {
     "name": "stdout",
     "output_type": "stream",
     "text": [
      "changed the 3 to a 5\n"
     ]
    }
   ],
   "source": [
    "# example if statement\n",
    "\n",
    "x = [1, 2, 3, 4]\n",
    "\n",
    "if 3 in x:\n",
    "    \n",
    "    x[x.index(3)] = 5                 # tab spacing indicates that the next two lines\n",
    "    print('changed the 3 to a 5')     # are associated with the if statement above\n",
    "    \n",
    "elif 7 in x:\n",
    "    \n",
    "    x[x.index(7)] = 5\n",
    "    print('changed the 7 to a 5')\n",
    "    \n",
    "else: \n",
    "    x[-1] = 8\n",
    "    print('changed the last element to a 8')\n",
    "    "
   ]
  },
  {
   "cell_type": "code",
   "execution_count": 283,
   "metadata": {},
   "outputs": [
    {
     "name": "stdout",
     "output_type": "stream",
     "text": [
      "Changed the 6 to a 5\n",
      "The last element was removed\n",
      "\n",
      " x = [2, 4, 5, 8, 10]\n"
     ]
    }
   ],
   "source": [
    "# example with nested if statements\n",
    "\n",
    "x = [2, 4, 6, 8, 10, 12]\n",
    "\n",
    "if 6 in x:\n",
    "    \n",
    "    x[x.index(6)] = 5               # one tab of whitespace defines the scope of the first if\n",
    "    print('Changed the 6 to a 5')\n",
    "    \n",
    "    if len(x) is 6:\n",
    "        x.remove(x[-1])             # two tabs of whiteshpace defines the scope of the second if\n",
    "        print('The last element was removed')\n",
    "        \n",
    "print('\\n x =', x)"
   ]
  },
  {
   "cell_type": "markdown",
   "metadata": {},
   "source": [
    "<font color = 'green'> \n",
    "#### Exercise 6\n",
    "    \n",
    "<font color = 'black'>\n",
    "Write an if/elif/else statement that prints:\n",
    "* 'Has an 11' if the number eleven appears in the list\n",
    "* '2 is repeated' if the number 2 appears more than once\n",
    "* 'Has an 11 and 2 is repeated' if both of the above are true\n",
    "* 'This is a boring list' otherwise\n",
    "    \n",
    "Test your code by uncommenting each of the lists below, one at a time\n"
   ]
  },
  {
   "cell_type": "code",
   "execution_count": 411,
   "metadata": {},
   "outputs": [],
   "source": [
    "# ex6_list = [7,8,5,13,32,6,11,15,9] # Has an 11\n",
    "# ex6_list = [7,5,2,13,9,6,3,2,9] # 2 is repeated\n",
    "# ex6_list = [11,2,5,13,2,6,7,10,9] # Has an 11 and 2 is repeated\n",
    "# ex6_list = [6,1,5,13,17,6,7,10,9] # This is a boring list\n"
   ]
  },
  {
   "cell_type": "markdown",
   "metadata": {},
   "source": [
    "\n",
    "\n",
    "<font color=\"#EE7621\">\n",
    "## Loops\n",
    "<font color = \"black\"><br>\n",
    "\n",
    "Python has two types of loops: **for** and **while**.\n",
    "\n",
    "#### For Loops\n",
    "\n",
    "For loops are a bit different from C or IDL: they don't iterate over integers. They iterate over a supplied *iterable* object, like a list or tuple. \n",
    "\n",
    "The for loop syntax is <font color='blue'> **for ** <font color='red'>*iterating variable* <font color='blue'>**in** <font color='red'>*iterative object*  <font color='blue'>**:**<font color='black'>\n",
    "\n",
    "* In examples 1 and 2 below, iterable objects are defined and each *for* loop iterates through the elements in a sequence.\n",
    "\n",
    "\n",
    "<img src='forexample.jpg'>"
   ]
  },
  {
   "cell_type": "code",
   "execution_count": 260,
   "metadata": {},
   "outputs": [
    {
     "name": "stdout",
     "output_type": "stream",
     "text": [
      "----------------- Example 1 ----------------- \n",
      "2 4 6 8 10 12 14 16 \n",
      "\n",
      "----------------- Example 2 ----------------- \n",
      "key = b    value = 1\n",
      "key = c    value = 1\n",
      "key = a    value = 1\n"
     ]
    }
   ],
   "source": [
    "# for loops with lists or tuples\n",
    "print('----------------- Example 1 ----------------- ')\n",
    "\n",
    "a_list = [2,4,6,8,10,12,14,16]\n",
    "\n",
    "for e in a_list:  # iterate through each element in a_list\n",
    "    \n",
    "    print(e, end=' ') # notice the tab spacing again to indicate the loop code block\n",
    "    \n",
    "# the end = ' ', condition in the print statement places a space between subsequent prints, \n",
    "# instead of a new line\n",
    "    \n",
    "# for loop with dict\n",
    "print('\\n\\n----------------- Example 2 ----------------- ')\n",
    "\n",
    "a_dict = {'a':1, 'b':2, 'c':3}\n",
    "\n",
    "for k in a_dict:    # iterate through each key in the dict \n",
    "    \n",
    "    print('key =', k, '   value =', a_dict[key])\n",
    "    \n",
    "# notice that the loop doesn't necessarily move through the keys in the order you defined them"
   ]
  },
  {
   "cell_type": "markdown",
   "metadata": {},
   "source": [
    "#### The range function\n",
    "\n",
    "For convenience, there are functions to generate sequences of integers as necessary. \n",
    "\n",
    "* In Example 3, the *range(N)* function produces a sequence of integers starting at $n=0$ and ending at $n = N-1$\n",
    "* In Example 4, the *range(a, b, c)* function produces a sequence of integers starting at $n=a$ and increments $n$ by $c$. The loop stops when $n$ is greater than or equal to b. "
   ]
  },
  {
   "cell_type": "code",
   "execution_count": 412,
   "metadata": {},
   "outputs": [],
   "source": [
    "# uncomment below to learn more about the range function\n",
    "# help(range)"
   ]
  },
  {
   "cell_type": "code",
   "execution_count": 258,
   "metadata": {},
   "outputs": [
    {
     "name": "stdout",
     "output_type": "stream",
     "text": [
      "----------------- Example 3 ----------------- \n",
      "0 1 2 3 4 5 6 7 8 9 \n",
      "\n",
      "----------------- Example 4 ----------------- \n",
      "1 3 5 7 9 "
     ]
    }
   ],
   "source": [
    "print('----------------- Example 3 ----------------- ')\n",
    "for n in range(10): # start at n=0 and iterate until n=10 (last loop is at 10-1 = 9)\n",
    "    \n",
    "    print(n, end=' ') \n",
    "\n",
    "\n",
    "print('\\n\\n----------------- Example 4 ----------------- ')\n",
    "\n",
    "for n in range(1, 10, 2): # start at n=1, and increase by 2 each iteration, until n>=10\n",
    "    \n",
    "    print(n, end=' ')"
   ]
  },
  {
   "cell_type": "markdown",
   "metadata": {},
   "source": [
    "#### While loops \n",
    "While loops continue to loop as long as the condition is true. The syntax is <font color='blue'>**while** <font color='red'>*condition* <font color='red'>**:**<font color='black'>"
   ]
  },
  {
   "cell_type": "code",
   "execution_count": 272,
   "metadata": {},
   "outputs": [
    {
     "name": "stdout",
     "output_type": "stream",
     "text": [
      "----------------- Example 5 ----------------- \n",
      "6 18 54 162 486 1458 "
     ]
    }
   ],
   "source": [
    "\n",
    "print('----------------- Example 5 ----------------- ')\n",
    "\n",
    "x = 2\n",
    "\n",
    "while x < 1000:\n",
    "    \n",
    "    x = 3*x\n",
    "    print(x, end=' ')\n",
    "    \n",
    "# set up your end condition carefully or you could end up with an infinite loop!"
   ]
  },
  {
   "cell_type": "markdown",
   "metadata": {},
   "source": [
    "#### Other Flow control\n",
    "\n",
    "**break**: if inside a loop, it will immediately exit the loop  \n",
    "**continue**: if inside a loop, it will immediately jump back to the top of the loop."
   ]
  },
  {
   "cell_type": "code",
   "execution_count": 278,
   "metadata": {},
   "outputs": [
    {
     "name": "stdout",
     "output_type": "stream",
     "text": [
      "0 1 2 3 4 6 7 "
     ]
    }
   ],
   "source": [
    "for i in range(10): # produces sequence [0, 1, 2, 3, 4, 5, 6, 7, 8, 9]\n",
    "    \n",
    "    if i==5:        # skip i = 5\n",
    "        continue\n",
    "    \n",
    "    if i==8:        # break the loop if i = 8\n",
    "        break\n",
    "   \n",
    "    print(i, end = ' ')\n"
   ]
  },
  {
   "cell_type": "markdown",
   "metadata": {},
   "source": [
    "<font color = 'green'> \n",
    "#### Exercise 7\n",
    "    \n",
    "<font color = 'black'>\n",
    "Write code that prints 'all even' all numbers in the list below are even, 'all odd' if all numbers in the list below are odd, and 'mixed' otherwise.\n",
    "    \n",
    "Test your code by uncommenting each of the lists below, one at a time"
   ]
  },
  {
   "cell_type": "code",
   "execution_count": 404,
   "metadata": {},
   "outputs": [],
   "source": [
    "#ex7_list = [2,6,12,8,16,22,18,28,4] # all even\n",
    "#ex7_list = [1,7,13,11,9,5,17,3,21] # all odd\n",
    "#ex7_list = [1,2,5,7,3,6,11,16,21] # mixed\n"
   ]
  },
  {
   "cell_type": "markdown",
   "metadata": {},
   "source": [
    "<font color = '#551A8B'> \n",
    "## Functions\n",
    "\n",
    "<br>\n",
    "<img src = 'functions.png'>\n"
   ]
  },
  {
   "cell_type": "code",
   "execution_count": 308,
   "metadata": {},
   "outputs": [],
   "source": [
    "# Example 1: A simple function with no return type\n",
    "\n",
    "def what_type_is_x(x):\n",
    "    '''\n",
    "    Prints the data type of x.\n",
    "    \n",
    "    Args: \n",
    "    x (int, float, or complex)\n",
    "    \n",
    "    Returns: none\n",
    "    '''\n",
    "    \n",
    "    if type(x) == int:\n",
    "        print('x is an integer')\n",
    "        \n",
    "    if type(x) == float:\n",
    "        print('x is a float')\n",
    "    \n",
    "    if type(x) == complex:\n",
    "        print('x is complex')\n",
    "        "
   ]
  },
  {
   "cell_type": "code",
   "execution_count": 313,
   "metadata": {},
   "outputs": [
    {
     "name": "stdout",
     "output_type": "stream",
     "text": [
      "Help on function what_type_is_x in module __main__:\n",
      "\n",
      "what_type_is_x(x)\n",
      "    Prints the data type of x.\n",
      "    \n",
      "    Args: \n",
      "    x (int, float, or complex)\n",
      "    \n",
      "    Returns: none\n",
      "\n"
     ]
    }
   ],
   "source": [
    "# the user can access the docstring using the help function\n",
    "\n",
    "help(what_type_is_x)"
   ]
  },
  {
   "cell_type": "code",
   "execution_count": 300,
   "metadata": {},
   "outputs": [
    {
     "name": "stdout",
     "output_type": "stream",
     "text": [
      "x is an integer\n",
      "x is a float\n",
      "x is complex\n"
     ]
    }
   ],
   "source": [
    "what_type_is_x(7)\n",
    "what_type_is_x(4.56)\n",
    "what_type_is_x(5.5 + 1.2j)"
   ]
  },
  {
   "cell_type": "code",
   "execution_count": 310,
   "metadata": {},
   "outputs": [],
   "source": [
    "# Example 2: A function with a return\n",
    "\n",
    "def gaussian(x, sigma, mu):\n",
    "    '''\n",
    "    Returns the value of a gaussian at point x\n",
    "    \n",
    "    Args:\n",
    "        x (float)\n",
    "        sigma (float): standard deviation\n",
    "        mu (float): the mean\n",
    "        \n",
    "    Returns:\n",
    "        (float): the value of the specified gaussian at point x\n",
    "    '''\n",
    "    \n",
    "    PI = 3.14159\n",
    "    e = 2.71828\n",
    "    \n",
    "    return (2*PI*sigma*sigma)**(-1/2) * e**((x-mu)**2/(2*sigma*sigma))\n"
   ]
  },
  {
   "cell_type": "code",
   "execution_count": 314,
   "metadata": {},
   "outputs": [
    {
     "name": "stdout",
     "output_type": "stream",
     "text": [
      "0.019972071920827464\n"
     ]
    }
   ],
   "source": [
    "n = gaussian(10, 20, 9)\n",
    "\n",
    "print(n)"
   ]
  },
  {
   "cell_type": "code",
   "execution_count": 327,
   "metadata": {},
   "outputs": [],
   "source": [
    "# Example 3: A function that returns multiple variables in a tuple\n",
    "\n",
    "def average_and_length(x):\n",
    "    '''\n",
    "    Determines the average and length of a list of numerical values\n",
    "    \n",
    "    args:\n",
    "        x (list)\n",
    "    \n",
    "    returns:\n",
    "        average (float), length (int)\n",
    "        \n",
    "    '''\n",
    "    sum = 0\n",
    "    length = len(x)\n",
    "    \n",
    "    for n in range(length):\n",
    "        sum = sum + x[n]\n",
    "        \n",
    "    average = sum/length\n",
    "    \n",
    "    return average, length\n",
    "        "
   ]
  },
  {
   "cell_type": "code",
   "execution_count": 315,
   "metadata": {},
   "outputs": [
    {
     "name": "stdout",
     "output_type": "stream",
     "text": [
      "(5.0, 9)\n"
     ]
    }
   ],
   "source": [
    "avg_len = average_and_length([1,2,3,4,5,6,7,8,9])\n",
    "\n",
    "print(avg_len)"
   ]
  },
  {
   "cell_type": "markdown",
   "metadata": {},
   "source": [
    "<font color = 'green'> \n",
    "\n",
    "#### Exercise 8\n",
    "    \n",
    "<font color = 'black'>\n",
    "Write a function that returns the mean and standard deviation of a list that is given as an argument.\n",
    "    \n",
    "Test your function by using each of the lists provided below."
   ]
  },
  {
   "cell_type": "code",
   "execution_count": 429,
   "metadata": {},
   "outputs": [],
   "source": [
    "ex8_list1 = [62, 42, 53, 83, 91, 49, 30, 50, 22,  0,  3, 25, 93, 68, 22] # mean = 46.2, st_dev = 28.5\n",
    "ex8_list2 = [79,  5, 65, 45, 89, 81, 87, 66,  9, 51, 69, 46, 86, 57, 20] # mean = 57.0, st_dev = 26.8\n",
    "ex8_list3 = [73, 16, 44, 94, 21, 12, 14, 30, 41, 75, 54, 92, 74,  1, 39] # mean = 45.3, st_dev = 29.3\n",
    "ex8_list4 = [ 1, 45, 12, 80, 40, 74,  9, 13, 60, 99, 25, 38, 19, 10, 14] # mean = 35.9, st_dev = 29.0\n"
   ]
  },
  {
   "cell_type": "markdown",
   "metadata": {},
   "source": [
    "<font color = '#551A8B'> \n",
    "    \n",
    "## External Modules\n"
   ]
  },
  {
   "cell_type": "markdown",
   "metadata": {},
   "source": [
    "Python functionality is designed around *modules*, extra code that can accessed only if it is specifically brought in. This is to keep the namespace of accessible functions as small as possible, so the interpreter can work quickly. A lot of useful tools, like array operations and various scientific python packages, are available as python modules that be easily added to any python script.  The module system is also how you can bring in your own code from other files, if you are building something very large with code in different places.\n",
    "\n",
    "Modules work through *import* statements, which make the functions inside accessible to the rest of the script."
   ]
  },
  {
   "cell_type": "markdown",
   "metadata": {},
   "source": [
    "#### Example: Numpy (numerical python)"
   ]
  },
  {
   "cell_type": "code",
   "execution_count": 331,
   "metadata": {},
   "outputs": [
    {
     "name": "stdout",
     "output_type": "stream",
     "text": [
      "[  0.           0.52631579   1.05263158   1.57894737   2.10526316\n",
      "   2.63157895   3.15789474   3.68421053   4.21052632   4.73684211\n",
      "   5.26315789   5.78947368   6.31578947   6.84210526   7.36842105\n",
      "   7.89473684   8.42105263   8.94736842   9.47368421  10.        ]\n",
      "\n",
      "mean = 5.0\n"
     ]
    }
   ],
   "source": [
    "import numpy as np  # numerical python includes data analysis and array manipulation functions\n",
    "\n",
    "numpy_array = np.linspace(0,10,20)     # a numpy array containing 20 numbers evenly spaces from 0 to 10\n",
    "print(numpy_array)\n",
    "print('\\nmean =', np.mean(numpy_array)) "
   ]
  },
  {
   "cell_type": "markdown",
   "metadata": {},
   "source": [
    "#### Example: Math"
   ]
  },
  {
   "cell_type": "code",
   "execution_count": 320,
   "metadata": {},
   "outputs": [
    {
     "name": "stdout",
     "output_type": "stream",
     "text": [
      "3.0\n"
     ]
    }
   ],
   "source": [
    "import math        # math functions\n",
    "print(math.log10(1000))"
   ]
  },
  {
   "cell_type": "markdown",
   "metadata": {},
   "source": [
    "#### Example: Matplotlib\n",
    "Modules can be nested inside other modules, and you can invoke only the parts of a module that you need:"
   ]
  },
  {
   "cell_type": "code",
   "execution_count": 326,
   "metadata": {},
   "outputs": [
    {
     "data": {
      "image/png": "[encoded data removed]",
      "text/plain": [
       "<matplotlib.figure.Figure at 0x1195190b8>"
      ]
     },
     "metadata": {},
     "output_type": "display_data"
    }
   ],
   "source": [
    "from matplotlib import pyplot as plt #plotting\n",
    "%matplotlib inline\n",
    "\n",
    "x = np.linspace(0,10,100)  # this is an example of the utility of numpy arrays\n",
    "y = x*x                 \n",
    "\n",
    "plt.plot(x, y)  # plot\n",
    "plt.grid('on')  # add a grid\n",
    "plt.xlabel('x') # label the x axis\n",
    "plt.ylabel('y') # label the y axis\n",
    "plt.title('$y=x^2$'); # label the title (note that latex can be used in labels!)\n"
   ]
  },
  {
   "cell_type": "markdown",
   "metadata": {},
   "source": [
    "### Overview of some useful modules\n",
    "- math: introduces basic (scalar) math functions\n",
    "- cmath: math with complex numbers\n",
    "- os,sys: interact with file system and Bash command line.\n",
    "- numpy: Numerical python, functions for doing more advanced numerical work, mostly based around arrays  \n",
    "https://docs.scipy.org/doc/numpy/reference/routines.html\n",
    "- scipy: Scientific python, a variety of useful analysis routines\n",
    "https://docs.scipy.org/doc/scipy-0.16.1/reference/index.html\n",
    "- matplotlib/pyplot: main module for plotting/figures https://matplotlib.org/\n",
    "- astropy: read/write FITS and VOTable data, coordinate transforms, etc. for astronomy http://astropy.readthedocs.io/en/stable/\n",
    "- Basemap: plot spherical coordinates properly https://matplotlib.org/basemap/\n",
    "- Sympy: symbolic mathematics (like Maple/Mathematica/Wolfram Alpha) http://docs.sympy.org/latest/index.html\n",
    "\n",
    "Many packages also have a main reference that can be cited in the acknowledgements sections of papers."
   ]
  }
 ],
 "metadata": {
  "kernelspec": {
   "display_name": "Python 3",
   "language": "python",
   "name": "python3"
  },
  "language_info": {
   "codemirror_mode": {
    "name": "ipython",
    "version": 3
   },
   "file_extension": ".py",
   "mimetype": "text/x-python",
   "name": "python",
   "nbconvert_exporter": "python",
   "pygments_lexer": "ipython3",
   "version": "3.5.4"
  }
 },
 "nbformat": 4,
 "nbformat_minor": 2
}
